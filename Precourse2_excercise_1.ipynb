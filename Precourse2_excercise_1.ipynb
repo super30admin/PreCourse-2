{
  "nbformat": 4,
  "nbformat_minor": 0,
  "metadata": {
    "colab": {
      "name": "Precourse2_excercise_1.ipynb",
      "provenance": []
    },
    "kernelspec": {
      "name": "python3",
      "display_name": "Python 3"
    },
    "language_info": {
      "name": "python"
    }
  },
  "cells": [
    {
      "cell_type": "code",
      "metadata": {
        "id": "PLZUr4LDtqDz"
      },
      "source": [
        "# Python code to implement iterative Binary  \n",
        "# Search. \n",
        "  \n",
        "# It returns location of x in given array arr  \n",
        "# if present, else returns -1 \n",
        "def binarySearch(arr, l, r, x): \n",
        "\n",
        "    while l<= r:\n",
        "        mid = (l+r)//2\n",
        "\n",
        "        if arr[mid] < x:\n",
        "            l = mid + 1\n",
        "\n",
        "        elif arr[mid] > x:\n",
        "            r = mid - 1\n",
        "    \n",
        "        else :\n",
        "            return mid\n",
        "\n",
        "    \n",
        "  \n",
        "  #write your code here\n",
        "  \n",
        "    \n",
        "  \n",
        "# Test array \n",
        "arr = [ 2, 3, 4, 10, 40 ] \n",
        "x = 10\n",
        "  \n",
        "# Function call \n",
        "result = binarySearch(arr, 0, len(arr)-1, x) \n",
        "  \n",
        "if result != -1: \n",
        "    print (\"Element is present at index % d\" % result )\n",
        "else: \n",
        "    print (\"Element is not present in array\")\n",
        "\n",
        "\n",
        "#SC : O(1)\n",
        "#TC : O(log n)"
      ],
      "execution_count": null,
      "outputs": []
    }
  ]
}